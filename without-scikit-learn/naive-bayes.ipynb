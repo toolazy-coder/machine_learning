{
 "cells": [
  {
   "cell_type": "code",
   "execution_count": 1,
   "metadata": {},
   "outputs": [
    {
     "name": "stdout",
     "output_type": "stream",
     "text": [
      "Predictions: [1 0 0]\n",
      "Accuracy: 0.6666666666666666\n",
      "True Positives: 1\n",
      "False Positives: 0\n",
      "False Negatives: 1\n",
      "True Negatives: 1\n",
      "Final Accuracy: 0.6666666666666666\n"
     ]
    },
    {
     "name": "stderr",
     "output_type": "stream",
     "text": [
      "C:\\Users\\Musakalim Khan\\AppData\\Local\\Temp\\ipykernel_25188\\3999690723.py:30: RuntimeWarning: invalid value encountered in log\n",
      "  log_prob = np.sum(np.log(sample * feature_probs_given_class + (1 - sample) * (1 - feature_probs_given_class) + 1e-9))  # Avoid log(0)\n"
     ]
    }
   ],
   "source": [
    "import pandas as pd \n",
    "import numpy as np \n",
    "from sklearn.model_selection import train_test_split \n",
    "from sklearn.metrics import accuracy_score, confusion_matrix \n",
    "from sklearn.preprocessing import LabelEncoder \n",
    "\n",
    "class NaiveBayesClassifier: \n",
    "    def __init__(self): \n",
    "        self.class_probs = {} \n",
    "        self.feature_probs = {} \n",
    "    \n",
    "    def fit(self, X, y): \n",
    "        num_samples, num_features = X.shape \n",
    "        unique_classes = np.unique(y) \n",
    "        \n",
    "        for c in unique_classes: \n",
    "            # Calculate class probabilities \n",
    "            self.class_probs[c] = np.sum(y == c) / num_samples \n",
    "            \n",
    "            # Calculate feature probabilities for each class \n",
    "            features_given_class = X[y == c] \n",
    "            self.feature_probs[c] = (np.sum(features_given_class, axis=0) + 1) / (np.sum(y == c) + 2)  # Laplace smoothing\n",
    "    \n",
    "    def predict(self, X): \n",
    "        predictions = [] \n",
    "        for sample in X: \n",
    "            class_scores = {} \n",
    "            for c, class_prob in self.class_probs.items(): \n",
    "                feature_probs_given_class = self.feature_probs[c] \n",
    "                log_prob = np.sum(np.log(sample * feature_probs_given_class + (1 - sample) * (1 - feature_probs_given_class) + 1e-9))  # Avoid log(0) \n",
    "                class_scores[c] = np.log(class_prob) + log_prob \n",
    "            \n",
    "            # Predict the class with the highest probability \n",
    "            predicted_class = max(class_scores, key=class_scores.get) \n",
    "            predictions.append(predicted_class) \n",
    "        return np.array(predictions) \n",
    "\n",
    "# Load dataset\n",
    "data = pd.read_csv('C:\\\\Users\\\\Musakalim Khan\\\\Downloads\\\\csv-dataset\\\\play_tennis.csv')\n",
    "\n",
    "# Convert categorical features to numerical values using label encoding \n",
    "label_encoder = LabelEncoder() \n",
    "for column in data.select_dtypes(include=['object']).columns: \n",
    "    data[column] = label_encoder.fit_transform(data[column]) \n",
    "\n",
    "X = data.drop('play', axis=1).values \n",
    "y = data['play'].values \n",
    "\n",
    "# Split dataset into training and testing sets\n",
    "X_train, X_test, y_train, y_test = train_test_split(X, y, test_size=0.2, random_state=42) \n",
    "\n",
    "# Train Naive Bayes classifier\n",
    "nb_classifier = NaiveBayesClassifier() \n",
    "nb_classifier.fit(X_train, y_train) \n",
    "\n",
    "# Make predictions\n",
    "predictions = nb_classifier.predict(X_test) \n",
    "\n",
    "# Calculate accuracy\n",
    "accuracy = accuracy_score(y_test, predictions) \n",
    "print(\"Predictions:\", predictions) \n",
    "print(\"Accuracy:\", accuracy) \n",
    "\n",
    "# Compute confusion matrix\n",
    "cm = confusion_matrix(y_test, predictions) \n",
    "tp, fp, fn, tn = cm.ravel() \n",
    "\n",
    "print(\"True Positives:\", tp) \n",
    "print(\"False Positives:\", fp) \n",
    "print(\"False Negatives:\", fn) \n",
    "print(\"True Negatives:\", tn) \n",
    "\n",
    "# Accuracy calculation\n",
    "accuracy = (tp + tn) / (tp + fp + tn + fn) \n",
    "print(\"Final Accuracy:\", accuracy)\n"
   ]
  }
 ],
 "metadata": {
  "kernelspec": {
   "display_name": "Python 3",
   "language": "python",
   "name": "python3"
  },
  "language_info": {
   "codemirror_mode": {
    "name": "ipython",
    "version": 3
   },
   "file_extension": ".py",
   "mimetype": "text/x-python",
   "name": "python",
   "nbconvert_exporter": "python",
   "pygments_lexer": "ipython3",
   "version": "3.12.8"
  }
 },
 "nbformat": 4,
 "nbformat_minor": 2
}
