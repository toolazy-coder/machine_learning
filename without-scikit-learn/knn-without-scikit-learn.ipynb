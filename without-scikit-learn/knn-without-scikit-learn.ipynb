{
 "cells": [
  {
   "cell_type": "code",
   "execution_count": 6,
   "metadata": {},
   "outputs": [
    {
     "name": "stdout",
     "output_type": "stream",
     "text": [
      "Accuracy: 0.6923076923076923\n",
      "True Positives: 20\n",
      "False Positives: 5\n",
      "False Negatives: 7\n",
      "True Negatives: 7\n",
      "Accuracy: 0.6923076923076923\n"
     ]
    }
   ],
   "source": [
    "import pandas as pd \n",
    "import numpy as np \n",
    "from collections import Counter \n",
    "from sklearn.model_selection import train_test_split \n",
    "from sklearn.metrics import accuracy_score, confusion_matrix \n",
    "\n",
    "# Load dataset\n",
    "data = pd.read_csv('C:\\\\Users\\\\Musakalim Khan\\\\Downloads\\\\csv-dataset\\\\diabetes.csv')\n",
    "X = data.drop(columns='Outcome').values \n",
    "y = data['Outcome'].values \n",
    "\n",
    "# Split dataset into training and testing sets\n",
    "X_train, X_test, y_train, y_test = train_test_split(X, y, test_size=0.05, random_state=42) \n",
    "\n",
    "# Euclidean distance function\n",
    "def euclidean_distance(point1, point2): \n",
    "    return np.sqrt(np.sum((point1 - point2) ** 2)) \n",
    "\n",
    "# k-NN prediction function\n",
    "def knn_predict(X_train, y_train, X_test, k): \n",
    "    pred = [] \n",
    "    for test_point in X_test: \n",
    "        distances = [euclidean_distance(train_point, test_point) for train_point in X_train] \n",
    "        nearest_indices = np.argsort(distances)[:k] \n",
    "        nearest_labels = y_train[nearest_indices] \n",
    "        # Use majority voting to determine the predicted label \n",
    "        predicted_label = Counter(nearest_labels).most_common(1)[0][0] \n",
    "        pred.append(predicted_label) \n",
    "    return np.array(pred) \n",
    "\n",
    "# Calculate accuracy\n",
    "y_pred = knn_predict(X_train, y_train, X_test, k=7) \n",
    "accuracy = accuracy_score(y_test, y_pred) \n",
    "print(f'Accuracy: {accuracy}') \n",
    "\n",
    "# Confusion matrix\n",
    "cm = confusion_matrix(y_test, y_pred) \n",
    "tp, fp, fn, tn = cm.ravel() \n",
    "\n",
    "print(\"True Positives:\", tp) \n",
    "print(\"False Positives:\", fp) \n",
    "print(\"False Negatives:\", fn) \n",
    "print(\"True Negatives:\", tn) \n",
    "\n",
    "# Accuracy calculation\n",
    "accuracy = (tp + tn) / (tp + fp + tn + fn) \n",
    "print(\"Accuracy:\", accuracy)\n"
   ]
  }
 ],
 "metadata": {
  "kernelspec": {
   "display_name": "Python 3",
   "language": "python",
   "name": "python3"
  },
  "language_info": {
   "codemirror_mode": {
    "name": "ipython",
    "version": 3
   },
   "file_extension": ".py",
   "mimetype": "text/x-python",
   "name": "python",
   "nbconvert_exporter": "python",
   "pygments_lexer": "ipython3",
   "version": "3.12.8"
  }
 },
 "nbformat": 4,
 "nbformat_minor": 2
}
