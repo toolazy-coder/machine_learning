{
 "cells": [
  {
   "cell_type": "code",
   "execution_count": 1,
   "metadata": {},
   "outputs": [
    {
     "name": "stdout",
     "output_type": "stream",
     "text": [
      "Original data shape: (14, 5)\n",
      "Transformed data shape: (14, 2)\n",
      "Eigenvalues: [17.72778608  0.75207765  0.56455197  0.25996934  0.16264793]\n",
      "Principal components:\n",
      "[[-0.99333695 -0.05833223]\n",
      " [-0.00625889 -0.81081696]\n",
      " [ 0.1127664  -0.51332595]\n",
      " [-0.02117184  0.268104  ]\n",
      " [-0.00883338 -0.06156241]]\n"
     ]
    }
   ],
   "source": [
    "import numpy as np \n",
    "import pandas as pd \n",
    "from sklearn.preprocessing import LabelEncoder \n",
    "\n",
    "def pca(X, num_components): \n",
    "    # Compute the mean and standardize the data\n",
    "    X_meaned = X - np.mean(X, axis=0)\n",
    "    \n",
    "    # Compute covariance matrix\n",
    "    cov_matrix = np.cov(X_meaned, rowvar=False) \n",
    "    \n",
    "    # Compute eigenvalues and eigenvectors\n",
    "    eigenvalues, eigenvectors = np.linalg.eig(cov_matrix) \n",
    "    \n",
    "    # Sort eigenvalues and eigenvectors in descending order\n",
    "    sorted_indices = np.argsort(eigenvalues)[::-1] \n",
    "    eigenvalues = eigenvalues[sorted_indices] \n",
    "    eigenvectors = eigenvectors[:, sorted_indices] \n",
    "    \n",
    "    # Select the top 'num_components' eigenvectors \n",
    "    principal_components = eigenvectors[:, :num_components] \n",
    "    \n",
    "    # Project the standardized data onto the principal components \n",
    "    transformed_data = np.dot(X_meaned, principal_components) \n",
    "    \n",
    "    return transformed_data, eigenvalues, principal_components \n",
    "\n",
    "# Load dataset\n",
    "data = pd.read_csv('C:\\\\Users\\\\Musakalim Khan\\\\Downloads\\\\csv-dataset\\\\play_tennis.csv')\n",
    "\n",
    "# Convert categorical features to numerical values using label encoding \n",
    "label_encoder = LabelEncoder() \n",
    "for column in data.select_dtypes(include=['object']).columns: \n",
    "    data[column] = label_encoder.fit_transform(data[column]) \n",
    "\n",
    "# Separate features and target variable\n",
    "X = data.drop('play', axis=1).values \n",
    "y = data['play'].values \n",
    "\n",
    "# Apply PCA \n",
    "num_components = 2 \n",
    "transformed_data, eigenvalues, principal_components = pca(X, num_components) \n",
    "\n",
    "# Output results\n",
    "print(\"Original data shape:\", X.shape) \n",
    "print(\"Transformed data shape:\", transformed_data.shape) \n",
    "print(\"Eigenvalues:\", eigenvalues) \n",
    "print(\"Principal components:\") \n",
    "print(principal_components)\n"
   ]
  }
 ],
 "metadata": {
  "kernelspec": {
   "display_name": "Python 3",
   "language": "python",
   "name": "python3"
  },
  "language_info": {
   "codemirror_mode": {
    "name": "ipython",
    "version": 3
   },
   "file_extension": ".py",
   "mimetype": "text/x-python",
   "name": "python",
   "nbconvert_exporter": "python",
   "pygments_lexer": "ipython3",
   "version": "3.12.8"
  }
 },
 "nbformat": 4,
 "nbformat_minor": 2
}
