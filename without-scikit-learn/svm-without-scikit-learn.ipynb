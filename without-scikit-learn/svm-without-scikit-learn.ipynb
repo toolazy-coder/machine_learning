{
 "cells": [
  {
   "cell_type": "code",
   "execution_count": 1,
   "metadata": {},
   "outputs": [
    {
     "name": "stdout",
     "output_type": "stream",
     "text": [
      "Accuracy: 0.875\n",
      "True Positives: 0\n",
      "False Positives: 1\n",
      "False Negatives: 0\n",
      "True Negatives: 7\n",
      "Final Accuracy: 0.875\n"
     ]
    }
   ],
   "source": [
    "import numpy as np \n",
    "import pandas as pd \n",
    "from sklearn.model_selection import train_test_split \n",
    "from sklearn.metrics import accuracy_score, confusion_matrix \n",
    "\n",
    "class SVM: \n",
    "    def __init__(self, learning_rate=0.01, n_iters=1000): \n",
    "        self.lr = learning_rate \n",
    "        self.n_iters = n_iters \n",
    "        self.w = None \n",
    "        self.b = None \n",
    "    \n",
    "    def fit(self, X, y): \n",
    "        n_samples, n_features = X.shape \n",
    "        self.w = np.zeros(n_features) \n",
    "        self.b = 0 \n",
    "        \n",
    "        y = np.where(y <= 0, -1, 1)  # Ensure y values are -1 or 1\n",
    "        \n",
    "        for _ in range(self.n_iters): \n",
    "            for idx, x_i in enumerate(X): \n",
    "                condition = y[idx] * (np.dot(x_i, self.w) + self.b) >= 1 \n",
    "                if condition: \n",
    "                    self.w -= self.lr * (2 * self.w) \n",
    "                else: \n",
    "                    self.w -= self.lr * (2 * self.w - np.dot(x_i, y[idx])) \n",
    "                    self.b -= self.lr * y[idx] \n",
    "    \n",
    "    def predict(self, X): \n",
    "        prediction = np.dot(X, self.w) + self.b \n",
    "        return np.sign(prediction).astype(int) \n",
    "\n",
    "# Load dataset\n",
    "data = pd.read_csv('C:\\\\Users\\\\Musakalim Khan\\\\Downloads\\\\csv-dataset\\\\PatientDetails_Classification.csv')\n",
    "data = data.drop('Patient Name', axis=1) \n",
    "X = data.drop(columns='TARGET').values \n",
    "y = data['TARGET'].values \n",
    "\n",
    "# Ensure target values are -1 or 1\n",
    "y = np.where(y <= 0, -1, 1) \n",
    "\n",
    "# Split dataset\n",
    "X_train, X_test, y_train, y_test = train_test_split(X, y, test_size=0.3, random_state=42) \n",
    "\n",
    "# Train SVM model\n",
    "clf = SVM() \n",
    "clf.fit(X_train, y_train) \n",
    "\n",
    "# Make predictions\n",
    "predictions = clf.predict(X_test) \n",
    "\n",
    "# Calculate accuracy\n",
    "accuracy = accuracy_score(y_test, predictions) \n",
    "print(\"Accuracy:\", accuracy) \n",
    "\n",
    "# Compute confusion matrix\n",
    "cm = confusion_matrix(y_test, predictions) \n",
    "tp, fp, fn, tn = cm.ravel() \n",
    "\n",
    "print(\"True Positives:\", tp) \n",
    "print(\"False Positives:\", fp) \n",
    "print(\"False Negatives:\", fn) \n",
    "print(\"True Negatives:\", tn) \n",
    "\n",
    "# Accuracy calculation\n",
    "accuracy = (tp + tn) / (tp + fp + tn + fn) \n",
    "print(\"Final Accuracy:\", accuracy)\n"
   ]
  }
 ],
 "metadata": {
  "kernelspec": {
   "display_name": "Python 3",
   "language": "python",
   "name": "python3"
  },
  "language_info": {
   "codemirror_mode": {
    "name": "ipython",
    "version": 3
   },
   "file_extension": ".py",
   "mimetype": "text/x-python",
   "name": "python",
   "nbconvert_exporter": "python",
   "pygments_lexer": "ipython3",
   "version": "3.12.8"
  }
 },
 "nbformat": 4,
 "nbformat_minor": 2
}
