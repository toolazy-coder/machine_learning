{
 "cells": [
  {
   "cell_type": "code",
   "execution_count": 8,
   "metadata": {},
   "outputs": [],
   "source": [
    "import pandas as pd\n",
    "import numpy as np\n",
    "from sklearn.cluster import KMeans\n",
    "import matplotlib.pyplot as plt\n",
    "from sklearn.preprocessing import StandardScaler"
   ]
  },
  {
   "cell_type": "code",
   "execution_count": 9,
   "metadata": {},
   "outputs": [
    {
     "name": "stdout",
     "output_type": "stream",
     "text": [
      "   CustomerID  Gender  Age  Annual Income (k$)  Spending Score (1-100)\n",
      "0           1    Male   19                  15                      39\n",
      "1           2    Male   21                  15                      81\n",
      "2           3  Female   20                  16                       6\n",
      "3           4  Female   23                  16                      77\n",
      "4           5  Female   31                  17                      40\n"
     ]
    },
    {
     "ename": "AttributeError",
     "evalue": "'KMeans' object has no attribute 'labels_'",
     "output_type": "error",
     "traceback": [
      "\u001b[1;31m---------------------------------------------------------------------------\u001b[0m",
      "\u001b[1;31mAttributeError\u001b[0m                            Traceback (most recent call last)",
      "Cell \u001b[1;32mIn[9], line 22\u001b[0m\n\u001b[0;32m     18\u001b[0m kmeans \u001b[38;5;241m=\u001b[39m KMeans(n_clusters\u001b[38;5;241m=\u001b[39mk, random_state\u001b[38;5;241m=\u001b[39m\u001b[38;5;241m42\u001b[39m)\n\u001b[0;32m     19\u001b[0m \u001b[38;5;66;03m# kmeans.fit(features_scaled)\u001b[39;00m\n\u001b[0;32m     20\u001b[0m \n\u001b[0;32m     21\u001b[0m \u001b[38;5;66;03m# Add cluster labels to the original df\u001b[39;00m\n\u001b[1;32m---> 22\u001b[0m df[\u001b[38;5;124m'\u001b[39m\u001b[38;5;124mCluster\u001b[39m\u001b[38;5;124m'\u001b[39m] \u001b[38;5;241m=\u001b[39m \u001b[43mkmeans\u001b[49m\u001b[38;5;241;43m.\u001b[39;49m\u001b[43mlabels_\u001b[49m\n\u001b[0;32m     24\u001b[0m \u001b[38;5;66;03m# Save the clustered df to a new CSV file\u001b[39;00m\n\u001b[0;32m     25\u001b[0m output_path \u001b[38;5;241m=\u001b[39m \u001b[38;5;124m\"\u001b[39m\u001b[38;5;124mMall_Customers.csv\u001b[39m\u001b[38;5;124m\"\u001b[39m\n",
      "\u001b[1;31mAttributeError\u001b[0m: 'KMeans' object has no attribute 'labels_'"
     ]
    }
   ],
   "source": [
    "# Load the dfset\n",
    "\n",
    "df = pd.read_csv('C:\\\\Users\\\\Musakalim Khan\\\\Downloads\\\\iris.csv')\n",
    "\n",
    "# Display the first few rows of the dfset\n",
    "print(df.head())\n",
    "\n",
    "# Selecting features for clustering (assuming the last column is the label and we're clustering features only)\n",
    "# Adjust the column names as per your CSV file\n",
    "features = df.iloc[:, :-1].values\n",
    "\n",
    "# Normalize the df\n",
    "scaler = StandardScaler()\n",
    "features_scaled = scaler.fit_transform(features)\n",
    "\n",
    "# Applying K-means clustering\n",
    "k = 3  # Number of clusters for the Iris dfset\n",
    "kmeans = KMeans(n_clusters=k, random_state=42)\n",
    "kmeans.fit(features_scaled)\n",
    "\n",
    "# Add cluster labels to the original df\n",
    "df['Cluster'] = kmeans.labels_\n",
    "\n",
    "# Save the clustered df to a new CSV file\n",
    "output_path = \"iris_clustered.csv\"\n",
    "df.to_csv(output_path, index=False)\n",
    "print(f\"Clustered data saved to {output_path}\")\n",
    "\n",
    "# Visualize the clusters (using the first two features)\n",
    "plt.scatter(features_scaled[:, 0], features_scaled[:, 1], c=kmeans.labels_, cmap='viridis')\n",
    "plt.scatter(kmeans.cluster_centers_[:, 0], kmeans.cluster_centers_[:, 1], s=200, c='red', label='Centroids')\n",
    "plt.title('K-means Clustering of Iris Dataset')\n",
    "plt.xlabel('Feature 1')\n",
    "plt.ylabel('Feature 2')\n",
    "plt.legend()\n",
    "plt.show() "
   ]
  }
 ],
 "metadata": {
  "kernelspec": {
   "display_name": "Python 3",
   "language": "python",
   "name": "python3"
  },
  "language_info": {
   "codemirror_mode": {
    "name": "ipython",
    "version": 3
   },
   "file_extension": ".py",
   "mimetype": "text/x-python",
   "name": "python",
   "nbconvert_exporter": "python",
   "pygments_lexer": "ipython3",
   "version": "3.12.8"
  },
  "orig_nbformat": 4
 },
 "nbformat": 4,
 "nbformat_minor": 2
}
