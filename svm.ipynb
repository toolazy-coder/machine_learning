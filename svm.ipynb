{
 "cells": [
  {
   "cell_type": "code",
   "execution_count": 1,
   "metadata": {},
   "outputs": [
    {
     "name": "stdout",
     "output_type": "stream",
     "text": [
      "   Pregnancies  Glucose  BloodPressure  SkinThickness  Insulin   BMI  \\\n",
      "0            6      148             72             35        0  33.6   \n",
      "1            1       85             66             29        0  26.6   \n",
      "2            8      183             64              0        0  23.3   \n",
      "3            1       89             66             23       94  28.1   \n",
      "4            0      137             40             35      168  43.1   \n",
      "\n",
      "   DiabetesPedigreeFunction  Age  Outcome  \n",
      "0                     0.627   50        1  \n",
      "1                     0.351   31        0  \n",
      "2                     0.672   32        1  \n",
      "3                     0.167   21        0  \n",
      "4                     2.288   33        1  \n",
      "Accuracy: 0.73\n",
      "\n",
      "Confusion Matrix:\n",
      " [[82 17]\n",
      " [24 31]]\n"
     ]
    }
   ],
   "source": [
    "import  pandas as pd \n",
    "\n",
    "df = pd.read_csv('C:\\\\Users\\\\Downloads\\\\diabetes.csv')\n",
    "print(df.head())\n",
    "\n",
    "X = df.iloc[:,:-1].copy()\n",
    "y = df.iloc[:,-1].copy()\n",
    "\n",
    "from sklearn.model_selection import train_test_split\n",
    "X_train, X_test, y_train, y_test = train_test_split(X, y, test_size=0.2,random_state=42)\n",
    "\n",
    "from sklearn.preprocessing import StandardScaler\n",
    "scaler = StandardScaler()\n",
    "X_train = scaler.fit_transform(X_train)\n",
    "X_test = scaler.transform(X_test)\n",
    "\n",
    "from sklearn import svm\n",
    "clf = svm.SVC(kernel='rbf')\n",
    "clf.fit(X_train, y_train)\n",
    "\n",
    "y_pred = clf.predict(X_test)\n",
    "\n",
    "from sklearn.metrics import accuracy_score,confusion_matrix\n",
    "\n",
    "accuracy = accuracy_score(y_test, y_pred)\n",
    "print(f'Accuracy: {accuracy:.2f}')\n",
    "print(\"\\nConfusion Matrix:\\n\", confusion_matrix(y_test, y_pred))\n"
   ]
  },
  {
   "cell_type": "code",
   "execution_count": 2,
   "metadata": {},
   "outputs": [
    {
     "name": "stdout",
     "output_type": "stream",
     "text": [
      "\n",
      "Enter the following values for prediction:\n",
      "Invalid input! Please enter numeric values for all features.\n"
     ]
    }
   ],
   "source": [
    "# Function to predict class based on user input\n",
    "def predict_class():\n",
    "    print(\"\\nEnter the following values for prediction:\")\n",
    "    try:\n",
    "        Pregnancies = float(input(\" \"))\n",
    "        Glucose = float(input(\" \"))\n",
    "        BloodPressure = float(input(\" \"))\n",
    "        SkinThickness = float(input(\" \"))\n",
    "        Insulin = float(input(\"\"))\n",
    "        BMI = float(input(\"\"))\n",
    "        DiabetesPedigreeFunction = float(input(\"\"))\n",
    "        Age = float(input(\"\"))\n",
    "\n",
    "        # Combine inputs into a DataFrame with column names matching the dataset\n",
    "        user_data = pd.DataFrame([[Pregnancies,Glucose,BloodPressure,SkinThickness,Insulin,BMI,DiabetesPedigreeFunction,Age]], columns=X.columns)\n",
    "        \n",
    "        # Scale the user input\n",
    "        user_data_scaled = scaler.transform(user_data)\n",
    "        \n",
    "        # Predict the class\n",
    "        user_pred =clf.predict(user_data_scaled)\n",
    "        \n",
    "        print(f\"\\nPredicted Class: {user_pred[0]}\")\n",
    "    except ValueError:\n",
    "        print(\"Invalid input! Please enter numeric values for all features.\")\n",
    "\n",
    "# Call the prediction function\n",
    "predict_class()"
   ]
  }
 ],
 "metadata": {
  "kernelspec": {
   "display_name": "Python 3",
   "language": "python",
   "name": "python3"
  },
  "language_info": {
   "codemirror_mode": {
    "name": "ipython",
    "version": 3
   },
   "file_extension": ".py",
   "mimetype": "text/x-python",
   "name": "python",
   "nbconvert_exporter": "python",
   "pygments_lexer": "ipython3",
   "version": "3.12.8"
  }
 },
 "nbformat": 4,
 "nbformat_minor": 2
}
