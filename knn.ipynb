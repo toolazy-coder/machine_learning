{
 "cells": [
  {
   "cell_type": "code",
   "execution_count": 12,
   "metadata": {},
   "outputs": [],
   "source": [
    "import pandas as pd\n",
    "from sklearn.preprocessing import LabelEncoder, StandardScaler\n",
    "from sklearn.model_selection import train_test_split\n",
    "from sklearn.neighbors import KNeighborsClassifier\n",
    "from sklearn.metrics import accuracy_score, confusion_matrix"
   ]
  },
  {
   "cell_type": "code",
   "execution_count": 15,
   "metadata": {},
   "outputs": [],
   "source": [
    "# Load the dataset\n",
    "df = pd.read_csv('C:\\\\Users\\\\Musakalim Khan\\\\Downloads\\\\iris.csv')\n",
    "\n",
    "# Separate features and target\n",
    "X = df.iloc[:, :-1]\n",
    "y = df.iloc[:, -1]\n",
    "\n",
    "# Encode the target labels\n",
    "label_encoder = LabelEncoder()\n",
    "y_encoded = label_encoder.fit_transform(y)\n",
    "\n",
    "# Split the dataset into training and testing sets\n",
    "X_train, X_test, y_train, y_test = train_test_split(X, y_encoded, test_size=0.5, random_state=56)\n",
    "\n",
    "# Scale the features\n",
    "scaler = StandardScaler()\n",
    "X_train = scaler.fit_transform(X_train)\n",
    "X_test = scaler.transform(X_test)"
   ]
  },
  {
   "cell_type": "code",
   "execution_count": 16,
   "metadata": {},
   "outputs": [],
   "source": [
    "# Train the KNN model\n",
    "k = 3  # Number of neighbors\n",
    "knn_model = KNeighborsClassifier(n_neighbors=k)\n",
    "knn_model.fit(X_train, y_train)\n",
    "\n",
    "# Predict on the test set\n",
    "y_pred = knn_model.predict(X_test)"
   ]
  },
  {
   "cell_type": "code",
   "execution_count": 17,
   "metadata": {},
   "outputs": [
    {
     "name": "stdout",
     "output_type": "stream",
     "text": [
      "Accuracy: 0.95\n",
      "\n",
      "Confusion Matrix:\n",
      " [[26  0  0]\n",
      " [ 0 20  3]\n",
      " [ 0  1 25]]\n"
     ]
    }
   ],
   "source": [
    "\n",
    "accuracy = accuracy_score(y_test, y_pred)\n",
    "print(f'Accuracy: {accuracy:.2f}')\n",
    "print(\"\\nConfusion Matrix:\\n\", confusion_matrix(y_test, y_pred))"
   ]
  },
  {
   "cell_type": "code",
   "execution_count": 9,
   "metadata": {},
   "outputs": [
    {
     "name": "stdout",
     "output_type": "stream",
     "text": [
      "\n",
      "Enter the following values for prediction:\n",
      "\n",
      "Predicted Class: versicolor\n"
     ]
    }
   ],
   "source": [
    "# Function to predict class based on user input\n",
    "def predict_class():\n",
    "    print(\"\\nEnter the following values for prediction:\")\n",
    "    try:\n",
    "        sepal_length = float(input(\"Sepal Length: \"))\n",
    "        sepal_width = float(input(\"Sepal Width: \"))\n",
    "        petal_length = float(input(\"Petal Length: \"))\n",
    "        petal_width = float(input(\"Petal Width: \"))\n",
    "\n",
    "        # Combine inputs into a DataFrame with column names matching the dataset\n",
    "        user_data = pd.DataFrame([[sepal_length, sepal_width, petal_length, petal_width]], columns=X.columns)\n",
    "        \n",
    "        # Scale the user input\n",
    "        user_data_scaled = scaler.transform(user_data)\n",
    "        \n",
    "        # Predict the class\n",
    "        user_pred_encoded = knn_model.predict(user_data_scaled)\n",
    "        user_pred = label_encoder.inverse_transform(user_pred_encoded)\n",
    "        \n",
    "        print(f\"\\nPredicted Class: {user_pred[0]}\")\n",
    "    except ValueError:\n",
    "        print(\"Invalid input! Please enter numeric values for all features.\")\n",
    "\n",
    "# Call the prediction function\n",
    "predict_class()"
   ]
  }
 ],
 "metadata": {
  "kernelspec": {
   "display_name": "Python 3",
   "language": "python",
   "name": "python3"
  },
  "language_info": {
   "codemirror_mode": {
    "name": "ipython",
    "version": 3
   },
   "file_extension": ".py",
   "mimetype": "text/x-python",
   "name": "python",
   "nbconvert_exporter": "python",
   "pygments_lexer": "ipython3",
   "version": "3.12.8"
  }
 },
 "nbformat": 4,
 "nbformat_minor": 2
}
